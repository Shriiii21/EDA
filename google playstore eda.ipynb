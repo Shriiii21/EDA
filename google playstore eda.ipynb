{
 "cells": [
  {
   "cell_type": "markdown",
   "id": "b09499f5",
   "metadata": {},
   "source": [
    "# EDA and Feature Engineering of Google Play Store Dataset\n",
    "\n",
    "## Problem Statement  \n",
    "With 1.85 million apps available for download and 2.56 million on the Google Play Store alone, apps have become integral to our daily lives. This project aims to explore and analyze the Google Play Store dataset to uncover insights such as:  \n",
    "- The most popular app category  \n",
    "- The app with the highest number of installs  \n",
    "- The app with the largest size, and more.\n",
    "\n",
    "# Data Overview\n",
    "The dataset contains 10,841 rows and 13 columns, providing a comprehensive view of app-related information for analysis.\n",
    "\n",
    "# Steps  that we Are Going to Follow\n",
    "1)Data Clearning\n",
    "2)Exploratory Data Analysis\n",
    "3)Feature Engineering"
   ]
  },
  {
   "cell_type": "code",
   "execution_count": 2,
   "id": "9d594287",
   "metadata": {},
   "outputs": [],
   "source": [
    "import pandas as pd\n",
    "import numpy as np\n",
    "import matplotlib.pyplot as plt\n",
    "import seaborn as sns\n",
    "import warnings\n",
    "\n",
    "warnings.filterwarnings(\"ignore\")\n",
    "\n",
    "%matplotlib inline"
   ]
  },
  {
   "cell_type": "code",
   "execution_count": 3,
   "id": "cf34590a",
   "metadata": {},
   "outputs": [],
   "source": [
    "df=pd.read_csv('googleplaystore.csv')"
   ]
  },
  {
   "cell_type": "code",
   "execution_count": 7,
   "id": "1fb6f9cf",
   "metadata": {},
   "outputs": [
    {
     "data": {
      "text/plain": [
       "<bound method NDFrame.head of                                                      App             Category  \\\n",
       "0         Photo Editor & Candy Camera & Grid & ScrapBook       ART_AND_DESIGN   \n",
       "1                                    Coloring book moana       ART_AND_DESIGN   \n",
       "2      U Launcher Lite – FREE Live Cool Themes, Hide ...       ART_AND_DESIGN   \n",
       "3                                  Sketch - Draw & Paint       ART_AND_DESIGN   \n",
       "4                  Pixel Draw - Number Art Coloring Book       ART_AND_DESIGN   \n",
       "...                                                  ...                  ...   \n",
       "10836                                   Sya9a Maroc - FR               FAMILY   \n",
       "10837                   Fr. Mike Schmitz Audio Teachings               FAMILY   \n",
       "10838                             Parkinson Exercices FR              MEDICAL   \n",
       "10839                      The SCP Foundation DB fr nn5n  BOOKS_AND_REFERENCE   \n",
       "10840      iHoroscope - 2018 Daily Horoscope & Astrology            LIFESTYLE   \n",
       "\n",
       "       Rating Reviews                Size     Installs  Type Price  \\\n",
       "0         4.1     159                 19M      10,000+  Free     0   \n",
       "1         3.9     967                 14M     500,000+  Free     0   \n",
       "2         4.7   87510                8.7M   5,000,000+  Free     0   \n",
       "3         4.5  215644                 25M  50,000,000+  Free     0   \n",
       "4         4.3     967                2.8M     100,000+  Free     0   \n",
       "...       ...     ...                 ...          ...   ...   ...   \n",
       "10836     4.5      38                 53M       5,000+  Free     0   \n",
       "10837     5.0       4                3.6M         100+  Free     0   \n",
       "10838     NaN       3                9.5M       1,000+  Free     0   \n",
       "10839     4.5     114  Varies with device       1,000+  Free     0   \n",
       "10840     4.5  398307                 19M  10,000,000+  Free     0   \n",
       "\n",
       "      Content Rating                     Genres      Last Updated  \\\n",
       "0           Everyone               Art & Design   January 7, 2018   \n",
       "1           Everyone  Art & Design;Pretend Play  January 15, 2018   \n",
       "2           Everyone               Art & Design    August 1, 2018   \n",
       "3               Teen               Art & Design      June 8, 2018   \n",
       "4           Everyone    Art & Design;Creativity     June 20, 2018   \n",
       "...              ...                        ...               ...   \n",
       "10836       Everyone                  Education     July 25, 2017   \n",
       "10837       Everyone                  Education      July 6, 2018   \n",
       "10838       Everyone                    Medical  January 20, 2017   \n",
       "10839     Mature 17+          Books & Reference  January 19, 2015   \n",
       "10840       Everyone                  Lifestyle     July 25, 2018   \n",
       "\n",
       "              Current Ver         Android Ver  \n",
       "0                   1.0.0        4.0.3 and up  \n",
       "1                   2.0.0        4.0.3 and up  \n",
       "2                   1.2.4        4.0.3 and up  \n",
       "3      Varies with device          4.2 and up  \n",
       "4                     1.1          4.4 and up  \n",
       "...                   ...                 ...  \n",
       "10836                1.48          4.1 and up  \n",
       "10837                 1.0          4.1 and up  \n",
       "10838                 1.0          2.2 and up  \n",
       "10839  Varies with device  Varies with device  \n",
       "10840  Varies with device  Varies with device  \n",
       "\n",
       "[10841 rows x 13 columns]>"
      ]
     },
     "execution_count": 7,
     "metadata": {},
     "output_type": "execute_result"
    }
   ],
   "source": [
    "df.head"
   ]
  },
  {
   "cell_type": "code",
   "execution_count": 8,
   "id": "f215377d",
   "metadata": {},
   "outputs": [
    {
     "name": "stdout",
     "output_type": "stream",
     "text": [
      "<class 'pandas.core.frame.DataFrame'>\n",
      "RangeIndex: 10841 entries, 0 to 10840\n",
      "Data columns (total 13 columns):\n",
      " #   Column          Non-Null Count  Dtype  \n",
      "---  ------          --------------  -----  \n",
      " 0   App             10841 non-null  object \n",
      " 1   Category        10841 non-null  object \n",
      " 2   Rating          9367 non-null   float64\n",
      " 3   Reviews         10841 non-null  object \n",
      " 4   Size            10841 non-null  object \n",
      " 5   Installs        10841 non-null  object \n",
      " 6   Type            10840 non-null  object \n",
      " 7   Price           10841 non-null  object \n",
      " 8   Content Rating  10840 non-null  object \n",
      " 9   Genres          10841 non-null  object \n",
      " 10  Last Updated    10841 non-null  object \n",
      " 11  Current Ver     10833 non-null  object \n",
      " 12  Android Ver     10838 non-null  object \n",
      "dtypes: float64(1), object(12)\n",
      "memory usage: 1.1+ MB\n"
     ]
    }
   ],
   "source": [
    "df.info()"
   ]
  },
  {
   "cell_type": "code",
   "execution_count": 9,
   "id": "b3bacd43",
   "metadata": {},
   "outputs": [
    {
     "data": {
      "text/html": [
       "<div>\n",
       "<style scoped>\n",
       "    .dataframe tbody tr th:only-of-type {\n",
       "        vertical-align: middle;\n",
       "    }\n",
       "\n",
       "    .dataframe tbody tr th {\n",
       "        vertical-align: top;\n",
       "    }\n",
       "\n",
       "    .dataframe thead th {\n",
       "        text-align: right;\n",
       "    }\n",
       "</style>\n",
       "<table border=\"1\" class=\"dataframe\">\n",
       "  <thead>\n",
       "    <tr style=\"text-align: right;\">\n",
       "      <th></th>\n",
       "      <th>Rating</th>\n",
       "    </tr>\n",
       "  </thead>\n",
       "  <tbody>\n",
       "    <tr>\n",
       "      <th>count</th>\n",
       "      <td>9367.000000</td>\n",
       "    </tr>\n",
       "    <tr>\n",
       "      <th>mean</th>\n",
       "      <td>4.193338</td>\n",
       "    </tr>\n",
       "    <tr>\n",
       "      <th>std</th>\n",
       "      <td>0.537431</td>\n",
       "    </tr>\n",
       "    <tr>\n",
       "      <th>min</th>\n",
       "      <td>1.000000</td>\n",
       "    </tr>\n",
       "    <tr>\n",
       "      <th>25%</th>\n",
       "      <td>4.000000</td>\n",
       "    </tr>\n",
       "    <tr>\n",
       "      <th>50%</th>\n",
       "      <td>4.300000</td>\n",
       "    </tr>\n",
       "    <tr>\n",
       "      <th>75%</th>\n",
       "      <td>4.500000</td>\n",
       "    </tr>\n",
       "    <tr>\n",
       "      <th>max</th>\n",
       "      <td>19.000000</td>\n",
       "    </tr>\n",
       "  </tbody>\n",
       "</table>\n",
       "</div>"
      ],
      "text/plain": [
       "            Rating\n",
       "count  9367.000000\n",
       "mean      4.193338\n",
       "std       0.537431\n",
       "min       1.000000\n",
       "25%       4.000000\n",
       "50%       4.300000\n",
       "75%       4.500000\n",
       "max      19.000000"
      ]
     },
     "execution_count": 9,
     "metadata": {},
     "output_type": "execute_result"
    }
   ],
   "source": [
    "#summary of the dataset\n",
    "df.describe()"
   ]
  },
  {
   "cell_type": "code",
   "execution_count": 10,
   "id": "77d4abb8",
   "metadata": {},
   "outputs": [
    {
     "data": {
      "text/plain": [
       "App                  0\n",
       "Category             0\n",
       "Rating            1474\n",
       "Reviews              0\n",
       "Size                 0\n",
       "Installs             0\n",
       "Type                 1\n",
       "Price                0\n",
       "Content Rating       1\n",
       "Genres               0\n",
       "Last Updated         0\n",
       "Current Ver          8\n",
       "Android Ver          3\n",
       "dtype: int64"
      ]
     },
     "execution_count": 10,
     "metadata": {},
     "output_type": "execute_result"
    }
   ],
   "source": [
    "#missing values\n",
    "df.isnull().sum()\n"
   ]
  },
  {
   "cell_type": "markdown",
   "id": "b72adb92",
   "metadata": {},
   "source": [
    "#observation\n",
    "the dataset has missing values"
   ]
  },
  {
   "cell_type": "markdown",
   "id": "5a4c4f81",
   "metadata": {},
   "source": [
    "#data cleaning"
   ]
  },
  {
   "cell_type": "code",
   "execution_count": 12,
   "id": "23a3df53",
   "metadata": {},
   "outputs": [
    {
     "data": {
      "text/plain": [
       "array(['159', '967', '87510', ..., '603', '1195', '398307'], dtype=object)"
      ]
     },
     "execution_count": 12,
     "metadata": {},
     "output_type": "execute_result"
    }
   ],
   "source": [
    "df['Reviews'].unique()"
   ]
  },
  {
   "cell_type": "code",
   "execution_count": 13,
   "id": "66651aa0",
   "metadata": {},
   "outputs": [
    {
     "data": {
      "text/plain": [
       "10840"
      ]
     },
     "execution_count": 13,
     "metadata": {},
     "output_type": "execute_result"
    }
   ],
   "source": [
    "df['Reviews'].str.isnumeric().sum()"
   ]
  },
  {
   "cell_type": "code",
   "execution_count": 14,
   "id": "a0183de2",
   "metadata": {},
   "outputs": [
    {
     "data": {
      "text/html": [
       "<div>\n",
       "<style scoped>\n",
       "    .dataframe tbody tr th:only-of-type {\n",
       "        vertical-align: middle;\n",
       "    }\n",
       "\n",
       "    .dataframe tbody tr th {\n",
       "        vertical-align: top;\n",
       "    }\n",
       "\n",
       "    .dataframe thead th {\n",
       "        text-align: right;\n",
       "    }\n",
       "</style>\n",
       "<table border=\"1\" class=\"dataframe\">\n",
       "  <thead>\n",
       "    <tr style=\"text-align: right;\">\n",
       "      <th></th>\n",
       "      <th>App</th>\n",
       "      <th>Category</th>\n",
       "      <th>Rating</th>\n",
       "      <th>Reviews</th>\n",
       "      <th>Size</th>\n",
       "      <th>Installs</th>\n",
       "      <th>Type</th>\n",
       "      <th>Price</th>\n",
       "      <th>Content Rating</th>\n",
       "      <th>Genres</th>\n",
       "      <th>Last Updated</th>\n",
       "      <th>Current Ver</th>\n",
       "      <th>Android Ver</th>\n",
       "    </tr>\n",
       "  </thead>\n",
       "  <tbody>\n",
       "    <tr>\n",
       "      <th>10472</th>\n",
       "      <td>Life Made WI-Fi Touchscreen Photo Frame</td>\n",
       "      <td>1.9</td>\n",
       "      <td>19.0</td>\n",
       "      <td>3.0M</td>\n",
       "      <td>1,000+</td>\n",
       "      <td>Free</td>\n",
       "      <td>0</td>\n",
       "      <td>Everyone</td>\n",
       "      <td>NaN</td>\n",
       "      <td>February 11, 2018</td>\n",
       "      <td>1.0.19</td>\n",
       "      <td>4.0 and up</td>\n",
       "      <td>NaN</td>\n",
       "    </tr>\n",
       "  </tbody>\n",
       "</table>\n",
       "</div>"
      ],
      "text/plain": [
       "                                           App Category  Rating Reviews  \\\n",
       "10472  Life Made WI-Fi Touchscreen Photo Frame      1.9    19.0    3.0M   \n",
       "\n",
       "         Size Installs Type     Price Content Rating             Genres  \\\n",
       "10472  1,000+     Free    0  Everyone            NaN  February 11, 2018   \n",
       "\n",
       "      Last Updated Current Ver Android Ver  \n",
       "10472       1.0.19  4.0 and up         NaN  "
      ]
     },
     "execution_count": 14,
     "metadata": {},
     "output_type": "execute_result"
    }
   ],
   "source": [
    "df[~df['Reviews'].str.isnumeric()]"
   ]
  },
  {
   "cell_type": "code",
   "execution_count": 15,
   "id": "b920bdc4",
   "metadata": {},
   "outputs": [],
   "source": [
    "df_copy=df.copy()"
   ]
  },
  {
   "cell_type": "code",
   "execution_count": 17,
   "id": "1b072259",
   "metadata": {},
   "outputs": [],
   "source": [
    "df_copy=df_copy.drop(df_copy.index[10472])"
   ]
  },
  {
   "cell_type": "code",
   "execution_count": 19,
   "id": "5a012ae0",
   "metadata": {},
   "outputs": [
    {
     "data": {
      "text/html": [
       "<div>\n",
       "<style scoped>\n",
       "    .dataframe tbody tr th:only-of-type {\n",
       "        vertical-align: middle;\n",
       "    }\n",
       "\n",
       "    .dataframe tbody tr th {\n",
       "        vertical-align: top;\n",
       "    }\n",
       "\n",
       "    .dataframe thead th {\n",
       "        text-align: right;\n",
       "    }\n",
       "</style>\n",
       "<table border=\"1\" class=\"dataframe\">\n",
       "  <thead>\n",
       "    <tr style=\"text-align: right;\">\n",
       "      <th></th>\n",
       "      <th>App</th>\n",
       "      <th>Category</th>\n",
       "      <th>Rating</th>\n",
       "      <th>Reviews</th>\n",
       "      <th>Size</th>\n",
       "      <th>Installs</th>\n",
       "      <th>Type</th>\n",
       "      <th>Price</th>\n",
       "      <th>Content Rating</th>\n",
       "      <th>Genres</th>\n",
       "      <th>Last Updated</th>\n",
       "      <th>Current Ver</th>\n",
       "      <th>Android Ver</th>\n",
       "    </tr>\n",
       "  </thead>\n",
       "  <tbody>\n",
       "  </tbody>\n",
       "</table>\n",
       "</div>"
      ],
      "text/plain": [
       "Empty DataFrame\n",
       "Columns: [App, Category, Rating, Reviews, Size, Installs, Type, Price, Content Rating, Genres, Last Updated, Current Ver, Android Ver]\n",
       "Index: []"
      ]
     },
     "execution_count": 19,
     "metadata": {},
     "output_type": "execute_result"
    }
   ],
   "source": [
    "df_copy[~df_copy['Reviews'].str.isnumeric()]"
   ]
  },
  {
   "cell_type": "code",
   "execution_count": 22,
   "id": "9d5fe70d",
   "metadata": {},
   "outputs": [],
   "source": [
    "#convert reviews datatype to int\n",
    "df_copy['Reviews']=df_copy['Reviews'].astype(int)"
   ]
  },
  {
   "cell_type": "code",
   "execution_count": 24,
   "id": "4fd67646",
   "metadata": {},
   "outputs": [
    {
     "name": "stdout",
     "output_type": "stream",
     "text": [
      "<class 'pandas.core.frame.DataFrame'>\n",
      "Index: 10840 entries, 0 to 10840\n",
      "Data columns (total 13 columns):\n",
      " #   Column          Non-Null Count  Dtype  \n",
      "---  ------          --------------  -----  \n",
      " 0   App             10840 non-null  object \n",
      " 1   Category        10840 non-null  object \n",
      " 2   Rating          9366 non-null   float64\n",
      " 3   Reviews         10840 non-null  int32  \n",
      " 4   Size            10840 non-null  object \n",
      " 5   Installs        10840 non-null  object \n",
      " 6   Type            10839 non-null  object \n",
      " 7   Price           10840 non-null  object \n",
      " 8   Content Rating  10840 non-null  object \n",
      " 9   Genres          10840 non-null  object \n",
      " 10  Last Updated    10840 non-null  object \n",
      " 11  Current Ver     10832 non-null  object \n",
      " 12  Android Ver     10838 non-null  object \n",
      "dtypes: float64(1), int32(1), object(11)\n",
      "memory usage: 1.1+ MB\n"
     ]
    }
   ],
   "source": [
    "df_copy.info()"
   ]
  },
  {
   "cell_type": "code",
   "execution_count": 25,
   "id": "bdfc7b5c",
   "metadata": {},
   "outputs": [
    {
     "data": {
      "text/plain": [
       "array(['19M', '14M', '8.7M', '25M', '2.8M', '5.6M', '29M', '33M', '3.1M',\n",
       "       '28M', '12M', '20M', '21M', '37M', '2.7M', '5.5M', '17M', '39M',\n",
       "       '31M', '4.2M', '7.0M', '23M', '6.0M', '6.1M', '4.6M', '9.2M',\n",
       "       '5.2M', '11M', '24M', 'Varies with device', '9.4M', '15M', '10M',\n",
       "       '1.2M', '26M', '8.0M', '7.9M', '56M', '57M', '35M', '54M', '201k',\n",
       "       '3.6M', '5.7M', '8.6M', '2.4M', '27M', '2.5M', '16M', '3.4M',\n",
       "       '8.9M', '3.9M', '2.9M', '38M', '32M', '5.4M', '18M', '1.1M',\n",
       "       '2.2M', '4.5M', '9.8M', '52M', '9.0M', '6.7M', '30M', '2.6M',\n",
       "       '7.1M', '3.7M', '22M', '7.4M', '6.4M', '3.2M', '8.2M', '9.9M',\n",
       "       '4.9M', '9.5M', '5.0M', '5.9M', '13M', '73M', '6.8M', '3.5M',\n",
       "       '4.0M', '2.3M', '7.2M', '2.1M', '42M', '7.3M', '9.1M', '55M',\n",
       "       '23k', '6.5M', '1.5M', '7.5M', '51M', '41M', '48M', '8.5M', '46M',\n",
       "       '8.3M', '4.3M', '4.7M', '3.3M', '40M', '7.8M', '8.8M', '6.6M',\n",
       "       '5.1M', '61M', '66M', '79k', '8.4M', '118k', '44M', '695k', '1.6M',\n",
       "       '6.2M', '18k', '53M', '1.4M', '3.0M', '5.8M', '3.8M', '9.6M',\n",
       "       '45M', '63M', '49M', '77M', '4.4M', '4.8M', '70M', '6.9M', '9.3M',\n",
       "       '10.0M', '8.1M', '36M', '84M', '97M', '2.0M', '1.9M', '1.8M',\n",
       "       '5.3M', '47M', '556k', '526k', '76M', '7.6M', '59M', '9.7M', '78M',\n",
       "       '72M', '43M', '7.7M', '6.3M', '334k', '34M', '93M', '65M', '79M',\n",
       "       '100M', '58M', '50M', '68M', '64M', '67M', '60M', '94M', '232k',\n",
       "       '99M', '624k', '95M', '8.5k', '41k', '292k', '11k', '80M', '1.7M',\n",
       "       '74M', '62M', '69M', '75M', '98M', '85M', '82M', '96M', '87M',\n",
       "       '71M', '86M', '91M', '81M', '92M', '83M', '88M', '704k', '862k',\n",
       "       '899k', '378k', '266k', '375k', '1.3M', '975k', '980k', '4.1M',\n",
       "       '89M', '696k', '544k', '525k', '920k', '779k', '853k', '720k',\n",
       "       '713k', '772k', '318k', '58k', '241k', '196k', '857k', '51k',\n",
       "       '953k', '865k', '251k', '930k', '540k', '313k', '746k', '203k',\n",
       "       '26k', '314k', '239k', '371k', '220k', '730k', '756k', '91k',\n",
       "       '293k', '17k', '74k', '14k', '317k', '78k', '924k', '902k', '818k',\n",
       "       '81k', '939k', '169k', '45k', '475k', '965k', '90M', '545k', '61k',\n",
       "       '283k', '655k', '714k', '93k', '872k', '121k', '322k', '1.0M',\n",
       "       '976k', '172k', '238k', '549k', '206k', '954k', '444k', '717k',\n",
       "       '210k', '609k', '308k', '705k', '306k', '904k', '473k', '175k',\n",
       "       '350k', '383k', '454k', '421k', '70k', '812k', '442k', '842k',\n",
       "       '417k', '412k', '459k', '478k', '335k', '782k', '721k', '430k',\n",
       "       '429k', '192k', '200k', '460k', '728k', '496k', '816k', '414k',\n",
       "       '506k', '887k', '613k', '243k', '569k', '778k', '683k', '592k',\n",
       "       '319k', '186k', '840k', '647k', '191k', '373k', '437k', '598k',\n",
       "       '716k', '585k', '982k', '222k', '219k', '55k', '948k', '323k',\n",
       "       '691k', '511k', '951k', '963k', '25k', '554k', '351k', '27k',\n",
       "       '82k', '208k', '913k', '514k', '551k', '29k', '103k', '898k',\n",
       "       '743k', '116k', '153k', '209k', '353k', '499k', '173k', '597k',\n",
       "       '809k', '122k', '411k', '400k', '801k', '787k', '237k', '50k',\n",
       "       '643k', '986k', '97k', '516k', '837k', '780k', '961k', '269k',\n",
       "       '20k', '498k', '600k', '749k', '642k', '881k', '72k', '656k',\n",
       "       '601k', '221k', '228k', '108k', '940k', '176k', '33k', '663k',\n",
       "       '34k', '942k', '259k', '164k', '458k', '245k', '629k', '28k',\n",
       "       '288k', '775k', '785k', '636k', '916k', '994k', '309k', '485k',\n",
       "       '914k', '903k', '608k', '500k', '54k', '562k', '847k', '957k',\n",
       "       '688k', '811k', '270k', '48k', '329k', '523k', '921k', '874k',\n",
       "       '981k', '784k', '280k', '24k', '518k', '754k', '892k', '154k',\n",
       "       '860k', '364k', '387k', '626k', '161k', '879k', '39k', '970k',\n",
       "       '170k', '141k', '160k', '144k', '143k', '190k', '376k', '193k',\n",
       "       '246k', '73k', '658k', '992k', '253k', '420k', '404k', '470k',\n",
       "       '226k', '240k', '89k', '234k', '257k', '861k', '467k', '157k',\n",
       "       '44k', '676k', '67k', '552k', '885k', '1020k', '582k', '619k'],\n",
       "      dtype=object)"
      ]
     },
     "execution_count": 25,
     "metadata": {},
     "output_type": "execute_result"
    }
   ],
   "source": [
    "df_copy['Size'].unique()"
   ]
  },
  {
   "cell_type": "code",
   "execution_count": 28,
   "id": "cf5779d6",
   "metadata": {},
   "outputs": [
    {
     "data": {
      "text/plain": [
       "0"
      ]
     },
     "execution_count": 28,
     "metadata": {},
     "output_type": "execute_result"
    }
   ],
   "source": [
    "df_copy['Size'].isnull().sum()"
   ]
  },
  {
   "cell_type": "code",
   "execution_count": 31,
   "id": "1e63f956",
   "metadata": {},
   "outputs": [],
   "source": [
    "df_copy['Size']=df_copy['Size'].str.replace('M','000')\n",
    "df_copy['Size']=df_copy['Size'].str.replace('k','')\n",
    "df_copy['Size']=df_copy['Size'].replace('Varies with device',np.nan)\n",
    "df_copy['Size']=df_copy['Size'].astype(float)"
   ]
  },
  {
   "cell_type": "code",
   "execution_count": 34,
   "id": "7e2317b9",
   "metadata": {},
   "outputs": [
    {
     "data": {
      "text/plain": [
       "0        19000.0\n",
       "1        14000.0\n",
       "2            8.7\n",
       "3        25000.0\n",
       "4            2.8\n",
       "          ...   \n",
       "10836    53000.0\n",
       "10837        3.6\n",
       "10838        9.5\n",
       "10839        NaN\n",
       "10840    19000.0\n",
       "Name: Size, Length: 10840, dtype: float64"
      ]
     },
     "execution_count": 34,
     "metadata": {},
     "output_type": "execute_result"
    }
   ],
   "source": [
    "df_copy['Size']"
   ]
  },
  {
   "cell_type": "code",
   "execution_count": 37,
   "id": "46a9d54a",
   "metadata": {},
   "outputs": [
    {
     "data": {
      "text/plain": [
       "array(['10,000+', '500,000+', '5,000,000+', '50,000,000+', '100,000+',\n",
       "       '50,000+', '1,000,000+', '10,000,000+', '5,000+', '100,000,000+',\n",
       "       '1,000,000,000+', '1,000+', '500,000,000+', '50+', '100+', '500+',\n",
       "       '10+', '1+', '5+', '0+', '0'], dtype=object)"
      ]
     },
     "execution_count": 37,
     "metadata": {},
     "output_type": "execute_result"
    }
   ],
   "source": [
    "df_copy['Installs'].unique()"
   ]
  },
  {
   "cell_type": "code",
   "execution_count": 39,
   "id": "1f747dd9",
   "metadata": {},
   "outputs": [
    {
     "data": {
      "text/plain": [
       "array(['0', '$4.99', '$3.99', '$6.99', '$1.49', '$2.99', '$7.99', '$5.99',\n",
       "       '$3.49', '$1.99', '$9.99', '$7.49', '$0.99', '$9.00', '$5.49',\n",
       "       '$10.00', '$24.99', '$11.99', '$79.99', '$16.99', '$14.99',\n",
       "       '$1.00', '$29.99', '$12.99', '$2.49', '$10.99', '$1.50', '$19.99',\n",
       "       '$15.99', '$33.99', '$74.99', '$39.99', '$3.95', '$4.49', '$1.70',\n",
       "       '$8.99', '$2.00', '$3.88', '$25.99', '$399.99', '$17.99',\n",
       "       '$400.00', '$3.02', '$1.76', '$4.84', '$4.77', '$1.61', '$2.50',\n",
       "       '$1.59', '$6.49', '$1.29', '$5.00', '$13.99', '$299.99', '$379.99',\n",
       "       '$37.99', '$18.99', '$389.99', '$19.90', '$8.49', '$1.75',\n",
       "       '$14.00', '$4.85', '$46.99', '$109.99', '$154.99', '$3.08',\n",
       "       '$2.59', '$4.80', '$1.96', '$19.40', '$3.90', '$4.59', '$15.46',\n",
       "       '$3.04', '$4.29', '$2.60', '$3.28', '$4.60', '$28.99', '$2.95',\n",
       "       '$2.90', '$1.97', '$200.00', '$89.99', '$2.56', '$30.99', '$3.61',\n",
       "       '$394.99', '$1.26', '$1.20', '$1.04'], dtype=object)"
      ]
     },
     "execution_count": 39,
     "metadata": {},
     "output_type": "execute_result"
    }
   ],
   "source": [
    "df_copy['Price'].unique()"
   ]
  },
  {
   "cell_type": "code",
   "execution_count": 43,
   "id": "58a8ddd6",
   "metadata": {},
   "outputs": [],
   "source": [
    "chars_to_remove=['+',',','$']\n",
    "cols_to_clean=['Installs','Price']\n",
    "for item in chars_to_remove:\n",
    "    for cols in cols_to_clean:\n",
    "        df_copy[cols]=df_copy[cols].str.replace(item,'')\n",
    " "
   ]
  },
  {
   "cell_type": "code",
   "execution_count": 44,
   "id": "cee49f9c",
   "metadata": {},
   "outputs": [
    {
     "data": {
      "text/plain": [
       "array(['0', '4.99', '3.99', '6.99', '1.49', '2.99', '7.99', '5.99',\n",
       "       '3.49', '1.99', '9.99', '7.49', '0.99', '9.00', '5.49', '10.00',\n",
       "       '24.99', '11.99', '79.99', '16.99', '14.99', '1.00', '29.99',\n",
       "       '12.99', '2.49', '10.99', '1.50', '19.99', '15.99', '33.99',\n",
       "       '74.99', '39.99', '3.95', '4.49', '1.70', '8.99', '2.00', '3.88',\n",
       "       '25.99', '399.99', '17.99', '400.00', '3.02', '1.76', '4.84',\n",
       "       '4.77', '1.61', '2.50', '1.59', '6.49', '1.29', '5.00', '13.99',\n",
       "       '299.99', '379.99', '37.99', '18.99', '389.99', '19.90', '8.49',\n",
       "       '1.75', '14.00', '4.85', '46.99', '109.99', '154.99', '3.08',\n",
       "       '2.59', '4.80', '1.96', '19.40', '3.90', '4.59', '15.46', '3.04',\n",
       "       '4.29', '2.60', '3.28', '4.60', '28.99', '2.95', '2.90', '1.97',\n",
       "       '200.00', '89.99', '2.56', '30.99', '3.61', '394.99', '1.26',\n",
       "       '1.20', '1.04'], dtype=object)"
      ]
     },
     "execution_count": 44,
     "metadata": {},
     "output_type": "execute_result"
    }
   ],
   "source": [
    "df_copy['Price'].unique()"
   ]
  },
  {
   "cell_type": "code",
   "execution_count": 45,
   "id": "53ec38ea",
   "metadata": {},
   "outputs": [
    {
     "data": {
      "text/plain": [
       "array(['10000', '500000', '5000000', '50000000', '100000', '50000',\n",
       "       '1000000', '10000000', '5000', '100000000', '1000000000', '1000',\n",
       "       '500000000', '50', '100', '500', '10', '1', '5', '0'], dtype=object)"
      ]
     },
     "execution_count": 45,
     "metadata": {},
     "output_type": "execute_result"
    }
   ],
   "source": [
    "df_copy['Installs'].unique()"
   ]
  },
  {
   "cell_type": "code",
   "execution_count": 46,
   "id": "1c496957",
   "metadata": {},
   "outputs": [],
   "source": [
    "df_copy['Installs'] = df_copy['Installs'].astype(int)\n",
    "df_copy['Price'] = df_copy['Price'].astype(float)\n"
   ]
  },
  {
   "cell_type": "code",
   "execution_count": 48,
   "id": "cb63b9ee",
   "metadata": {},
   "outputs": [
    {
     "name": "stdout",
     "output_type": "stream",
     "text": [
      "<class 'pandas.core.frame.DataFrame'>\n",
      "Index: 10840 entries, 0 to 10840\n",
      "Data columns (total 13 columns):\n",
      " #   Column          Non-Null Count  Dtype  \n",
      "---  ------          --------------  -----  \n",
      " 0   App             10840 non-null  object \n",
      " 1   Category        10840 non-null  object \n",
      " 2   Rating          9366 non-null   float64\n",
      " 3   Reviews         10840 non-null  int32  \n",
      " 4   Size            9145 non-null   float64\n",
      " 5   Installs        10840 non-null  int32  \n",
      " 6   Type            10839 non-null  object \n",
      " 7   Price           10840 non-null  float64\n",
      " 8   Content Rating  10840 non-null  object \n",
      " 9   Genres          10840 non-null  object \n",
      " 10  Last Updated    10840 non-null  object \n",
      " 11  Current Ver     10832 non-null  object \n",
      " 12  Android Ver     10838 non-null  object \n",
      "dtypes: float64(3), int32(2), object(8)\n",
      "memory usage: 1.1+ MB\n"
     ]
    }
   ],
   "source": [
    "df_copy.info()"
   ]
  },
  {
   "cell_type": "code",
   "execution_count": 51,
   "id": "ac7b56e1",
   "metadata": {},
   "outputs": [
    {
     "data": {
      "text/plain": [
       "array(['January 7, 2018', 'January 15, 2018', 'August 1, 2018', ...,\n",
       "       'January 20, 2014', 'February 16, 2014', 'March 23, 2014'],\n",
       "      dtype=object)"
      ]
     },
     "execution_count": 51,
     "metadata": {},
     "output_type": "execute_result"
    }
   ],
   "source": [
    "#handling last updated feature\n",
    "df_copy['Last Updated'].unique()"
   ]
  },
  {
   "cell_type": "code",
   "execution_count": 53,
   "id": "370d6e3f",
   "metadata": {},
   "outputs": [],
   "source": [
    "df_copy['Last Updated']=pd.to_datetime(df_copy['Last Updated'])\n",
    "df_copy['Date']=df_copy['Last Updated'].dt.day\n",
    "df_copy['Month']=df_copy['Last Updated'].dt.month\n",
    "df_copy['Year']=df_copy['Last Updated'].dt.year"
   ]
  },
  {
   "cell_type": "code",
   "execution_count": 54,
   "id": "6a124771",
   "metadata": {},
   "outputs": [
    {
     "name": "stdout",
     "output_type": "stream",
     "text": [
      "<class 'pandas.core.frame.DataFrame'>\n",
      "Index: 10840 entries, 0 to 10840\n",
      "Data columns (total 16 columns):\n",
      " #   Column          Non-Null Count  Dtype         \n",
      "---  ------          --------------  -----         \n",
      " 0   App             10840 non-null  object        \n",
      " 1   Category        10840 non-null  object        \n",
      " 2   Rating          9366 non-null   float64       \n",
      " 3   Reviews         10840 non-null  int32         \n",
      " 4   Size            9145 non-null   float64       \n",
      " 5   Installs        10840 non-null  int32         \n",
      " 6   Type            10839 non-null  object        \n",
      " 7   Price           10840 non-null  float64       \n",
      " 8   Content Rating  10840 non-null  object        \n",
      " 9   Genres          10840 non-null  object        \n",
      " 10  Last Updated    10840 non-null  datetime64[ns]\n",
      " 11  Current Ver     10832 non-null  object        \n",
      " 12  Android Ver     10838 non-null  object        \n",
      " 13  Date            10840 non-null  int32         \n",
      " 14  Month           10840 non-null  int32         \n",
      " 15  Year            10840 non-null  int32         \n",
      "dtypes: datetime64[ns](1), float64(3), int32(5), object(7)\n",
      "memory usage: 1.2+ MB\n"
     ]
    }
   ],
   "source": [
    "df_copy.info()"
   ]
  },
  {
   "cell_type": "code",
   "execution_count": 57,
   "id": "e9a80b05",
   "metadata": {},
   "outputs": [
    {
     "data": {
      "text/html": [
       "<div>\n",
       "<style scoped>\n",
       "    .dataframe tbody tr th:only-of-type {\n",
       "        vertical-align: middle;\n",
       "    }\n",
       "\n",
       "    .dataframe tbody tr th {\n",
       "        vertical-align: top;\n",
       "    }\n",
       "\n",
       "    .dataframe thead th {\n",
       "        text-align: right;\n",
       "    }\n",
       "</style>\n",
       "<table border=\"1\" class=\"dataframe\">\n",
       "  <thead>\n",
       "    <tr style=\"text-align: right;\">\n",
       "      <th></th>\n",
       "      <th>App</th>\n",
       "      <th>Category</th>\n",
       "      <th>Rating</th>\n",
       "      <th>Reviews</th>\n",
       "      <th>Size</th>\n",
       "      <th>Installs</th>\n",
       "      <th>Type</th>\n",
       "      <th>Price</th>\n",
       "      <th>Content Rating</th>\n",
       "      <th>Genres</th>\n",
       "      <th>Last Updated</th>\n",
       "      <th>Current Ver</th>\n",
       "      <th>Android Ver</th>\n",
       "      <th>Date</th>\n",
       "      <th>Month</th>\n",
       "      <th>Year</th>\n",
       "    </tr>\n",
       "  </thead>\n",
       "  <tbody>\n",
       "    <tr>\n",
       "      <th>0</th>\n",
       "      <td>Photo Editor &amp; Candy Camera &amp; Grid &amp; ScrapBook</td>\n",
       "      <td>ART_AND_DESIGN</td>\n",
       "      <td>4.1</td>\n",
       "      <td>159</td>\n",
       "      <td>19000.0</td>\n",
       "      <td>10000</td>\n",
       "      <td>Free</td>\n",
       "      <td>0.0</td>\n",
       "      <td>Everyone</td>\n",
       "      <td>Art &amp; Design</td>\n",
       "      <td>2018-01-07</td>\n",
       "      <td>1.0.0</td>\n",
       "      <td>4.0.3 and up</td>\n",
       "      <td>7</td>\n",
       "      <td>1</td>\n",
       "      <td>2018</td>\n",
       "    </tr>\n",
       "    <tr>\n",
       "      <th>1</th>\n",
       "      <td>Coloring book moana</td>\n",
       "      <td>ART_AND_DESIGN</td>\n",
       "      <td>3.9</td>\n",
       "      <td>967</td>\n",
       "      <td>14000.0</td>\n",
       "      <td>500000</td>\n",
       "      <td>Free</td>\n",
       "      <td>0.0</td>\n",
       "      <td>Everyone</td>\n",
       "      <td>Art &amp; Design;Pretend Play</td>\n",
       "      <td>2018-01-15</td>\n",
       "      <td>2.0.0</td>\n",
       "      <td>4.0.3 and up</td>\n",
       "      <td>15</td>\n",
       "      <td>1</td>\n",
       "      <td>2018</td>\n",
       "    </tr>\n",
       "    <tr>\n",
       "      <th>2</th>\n",
       "      <td>U Launcher Lite – FREE Live Cool Themes, Hide ...</td>\n",
       "      <td>ART_AND_DESIGN</td>\n",
       "      <td>4.7</td>\n",
       "      <td>87510</td>\n",
       "      <td>8.7</td>\n",
       "      <td>5000000</td>\n",
       "      <td>Free</td>\n",
       "      <td>0.0</td>\n",
       "      <td>Everyone</td>\n",
       "      <td>Art &amp; Design</td>\n",
       "      <td>2018-08-01</td>\n",
       "      <td>1.2.4</td>\n",
       "      <td>4.0.3 and up</td>\n",
       "      <td>1</td>\n",
       "      <td>8</td>\n",
       "      <td>2018</td>\n",
       "    </tr>\n",
       "    <tr>\n",
       "      <th>3</th>\n",
       "      <td>Sketch - Draw &amp; Paint</td>\n",
       "      <td>ART_AND_DESIGN</td>\n",
       "      <td>4.5</td>\n",
       "      <td>215644</td>\n",
       "      <td>25000.0</td>\n",
       "      <td>50000000</td>\n",
       "      <td>Free</td>\n",
       "      <td>0.0</td>\n",
       "      <td>Teen</td>\n",
       "      <td>Art &amp; Design</td>\n",
       "      <td>2018-06-08</td>\n",
       "      <td>Varies with device</td>\n",
       "      <td>4.2 and up</td>\n",
       "      <td>8</td>\n",
       "      <td>6</td>\n",
       "      <td>2018</td>\n",
       "    </tr>\n",
       "    <tr>\n",
       "      <th>4</th>\n",
       "      <td>Pixel Draw - Number Art Coloring Book</td>\n",
       "      <td>ART_AND_DESIGN</td>\n",
       "      <td>4.3</td>\n",
       "      <td>967</td>\n",
       "      <td>2.8</td>\n",
       "      <td>100000</td>\n",
       "      <td>Free</td>\n",
       "      <td>0.0</td>\n",
       "      <td>Everyone</td>\n",
       "      <td>Art &amp; Design;Creativity</td>\n",
       "      <td>2018-06-20</td>\n",
       "      <td>1.1</td>\n",
       "      <td>4.4 and up</td>\n",
       "      <td>20</td>\n",
       "      <td>6</td>\n",
       "      <td>2018</td>\n",
       "    </tr>\n",
       "  </tbody>\n",
       "</table>\n",
       "</div>"
      ],
      "text/plain": [
       "                                                 App        Category  Rating  \\\n",
       "0     Photo Editor & Candy Camera & Grid & ScrapBook  ART_AND_DESIGN     4.1   \n",
       "1                                Coloring book moana  ART_AND_DESIGN     3.9   \n",
       "2  U Launcher Lite – FREE Live Cool Themes, Hide ...  ART_AND_DESIGN     4.7   \n",
       "3                              Sketch - Draw & Paint  ART_AND_DESIGN     4.5   \n",
       "4              Pixel Draw - Number Art Coloring Book  ART_AND_DESIGN     4.3   \n",
       "\n",
       "   Reviews     Size  Installs  Type  Price Content Rating  \\\n",
       "0      159  19000.0     10000  Free    0.0       Everyone   \n",
       "1      967  14000.0    500000  Free    0.0       Everyone   \n",
       "2    87510      8.7   5000000  Free    0.0       Everyone   \n",
       "3   215644  25000.0  50000000  Free    0.0           Teen   \n",
       "4      967      2.8    100000  Free    0.0       Everyone   \n",
       "\n",
       "                      Genres Last Updated         Current Ver   Android Ver  \\\n",
       "0               Art & Design   2018-01-07               1.0.0  4.0.3 and up   \n",
       "1  Art & Design;Pretend Play   2018-01-15               2.0.0  4.0.3 and up   \n",
       "2               Art & Design   2018-08-01               1.2.4  4.0.3 and up   \n",
       "3               Art & Design   2018-06-08  Varies with device    4.2 and up   \n",
       "4    Art & Design;Creativity   2018-06-20                 1.1    4.4 and up   \n",
       "\n",
       "   Date  Month  Year  \n",
       "0     7      1  2018  \n",
       "1    15      1  2018  \n",
       "2     1      8  2018  \n",
       "3     8      6  2018  \n",
       "4    20      6  2018  "
      ]
     },
     "execution_count": 57,
     "metadata": {},
     "output_type": "execute_result"
    }
   ],
   "source": [
    "df_copy.head()"
   ]
  },
  {
   "cell_type": "code",
   "execution_count": 61,
   "id": "dbbd7c91",
   "metadata": {},
   "outputs": [],
   "source": [
    "df_copy.to_csv('Searches/google_cleaned.csv')\n"
   ]
  },
  {
   "cell_type": "code",
   "execution_count": 63,
   "id": "a3c4d6e0",
   "metadata": {},
   "outputs": [
    {
     "data": {
      "text/plain": [
       "(1181, 13)"
      ]
     },
     "execution_count": 63,
     "metadata": {},
     "output_type": "execute_result"
    }
   ],
   "source": [
    "df_copy[df_copy.duplicated('App')].shape"
   ]
  },
  {
   "cell_type": "markdown",
   "id": "865e2cbe",
   "metadata": {},
   "source": [
    "The dataset has duplicate records."
   ]
  },
  {
   "cell_type": "code",
   "execution_count": 66,
   "id": "fee2f6b5",
   "metadata": {},
   "outputs": [
    {
     "data": {
      "text/html": [
       "<div>\n",
       "<style scoped>\n",
       "    .dataframe tbody tr th:only-of-type {\n",
       "        vertical-align: middle;\n",
       "    }\n",
       "\n",
       "    .dataframe tbody tr th {\n",
       "        vertical-align: top;\n",
       "    }\n",
       "\n",
       "    .dataframe thead th {\n",
       "        text-align: right;\n",
       "    }\n",
       "</style>\n",
       "<table border=\"1\" class=\"dataframe\">\n",
       "  <thead>\n",
       "    <tr style=\"text-align: right;\">\n",
       "      <th></th>\n",
       "      <th>App</th>\n",
       "      <th>Category</th>\n",
       "      <th>Rating</th>\n",
       "      <th>Reviews</th>\n",
       "      <th>Size</th>\n",
       "      <th>Installs</th>\n",
       "      <th>Type</th>\n",
       "      <th>Price</th>\n",
       "      <th>Content Rating</th>\n",
       "      <th>Genres</th>\n",
       "      <th>Last Updated</th>\n",
       "      <th>Current Ver</th>\n",
       "      <th>Android Ver</th>\n",
       "      <th>Date</th>\n",
       "      <th>Month</th>\n",
       "      <th>Year</th>\n",
       "    </tr>\n",
       "  </thead>\n",
       "  <tbody>\n",
       "    <tr>\n",
       "      <th>0</th>\n",
       "      <td>Photo Editor &amp; Candy Camera &amp; Grid &amp; ScrapBook</td>\n",
       "      <td>ART_AND_DESIGN</td>\n",
       "      <td>4.1</td>\n",
       "      <td>159</td>\n",
       "      <td>19000.0</td>\n",
       "      <td>10000</td>\n",
       "      <td>Free</td>\n",
       "      <td>0.0</td>\n",
       "      <td>Everyone</td>\n",
       "      <td>Art &amp; Design</td>\n",
       "      <td>2018-01-07</td>\n",
       "      <td>1.0.0</td>\n",
       "      <td>4.0.3 and up</td>\n",
       "      <td>7</td>\n",
       "      <td>1</td>\n",
       "      <td>2018</td>\n",
       "    </tr>\n",
       "    <tr>\n",
       "      <th>1</th>\n",
       "      <td>Coloring book moana</td>\n",
       "      <td>ART_AND_DESIGN</td>\n",
       "      <td>3.9</td>\n",
       "      <td>967</td>\n",
       "      <td>14000.0</td>\n",
       "      <td>500000</td>\n",
       "      <td>Free</td>\n",
       "      <td>0.0</td>\n",
       "      <td>Everyone</td>\n",
       "      <td>Art &amp; Design;Pretend Play</td>\n",
       "      <td>2018-01-15</td>\n",
       "      <td>2.0.0</td>\n",
       "      <td>4.0.3 and up</td>\n",
       "      <td>15</td>\n",
       "      <td>1</td>\n",
       "      <td>2018</td>\n",
       "    </tr>\n",
       "    <tr>\n",
       "      <th>2</th>\n",
       "      <td>U Launcher Lite – FREE Live Cool Themes, Hide ...</td>\n",
       "      <td>ART_AND_DESIGN</td>\n",
       "      <td>4.7</td>\n",
       "      <td>87510</td>\n",
       "      <td>8.7</td>\n",
       "      <td>5000000</td>\n",
       "      <td>Free</td>\n",
       "      <td>0.0</td>\n",
       "      <td>Everyone</td>\n",
       "      <td>Art &amp; Design</td>\n",
       "      <td>2018-08-01</td>\n",
       "      <td>1.2.4</td>\n",
       "      <td>4.0.3 and up</td>\n",
       "      <td>1</td>\n",
       "      <td>8</td>\n",
       "      <td>2018</td>\n",
       "    </tr>\n",
       "    <tr>\n",
       "      <th>3</th>\n",
       "      <td>Sketch - Draw &amp; Paint</td>\n",
       "      <td>ART_AND_DESIGN</td>\n",
       "      <td>4.5</td>\n",
       "      <td>215644</td>\n",
       "      <td>25000.0</td>\n",
       "      <td>50000000</td>\n",
       "      <td>Free</td>\n",
       "      <td>0.0</td>\n",
       "      <td>Teen</td>\n",
       "      <td>Art &amp; Design</td>\n",
       "      <td>2018-06-08</td>\n",
       "      <td>Varies with device</td>\n",
       "      <td>4.2 and up</td>\n",
       "      <td>8</td>\n",
       "      <td>6</td>\n",
       "      <td>2018</td>\n",
       "    </tr>\n",
       "    <tr>\n",
       "      <th>4</th>\n",
       "      <td>Pixel Draw - Number Art Coloring Book</td>\n",
       "      <td>ART_AND_DESIGN</td>\n",
       "      <td>4.3</td>\n",
       "      <td>967</td>\n",
       "      <td>2.8</td>\n",
       "      <td>100000</td>\n",
       "      <td>Free</td>\n",
       "      <td>0.0</td>\n",
       "      <td>Everyone</td>\n",
       "      <td>Art &amp; Design;Creativity</td>\n",
       "      <td>2018-06-20</td>\n",
       "      <td>1.1</td>\n",
       "      <td>4.4 and up</td>\n",
       "      <td>20</td>\n",
       "      <td>6</td>\n",
       "      <td>2018</td>\n",
       "    </tr>\n",
       "    <tr>\n",
       "      <th>...</th>\n",
       "      <td>...</td>\n",
       "      <td>...</td>\n",
       "      <td>...</td>\n",
       "      <td>...</td>\n",
       "      <td>...</td>\n",
       "      <td>...</td>\n",
       "      <td>...</td>\n",
       "      <td>...</td>\n",
       "      <td>...</td>\n",
       "      <td>...</td>\n",
       "      <td>...</td>\n",
       "      <td>...</td>\n",
       "      <td>...</td>\n",
       "      <td>...</td>\n",
       "      <td>...</td>\n",
       "      <td>...</td>\n",
       "    </tr>\n",
       "    <tr>\n",
       "      <th>10836</th>\n",
       "      <td>Sya9a Maroc - FR</td>\n",
       "      <td>FAMILY</td>\n",
       "      <td>4.5</td>\n",
       "      <td>38</td>\n",
       "      <td>53000.0</td>\n",
       "      <td>5000</td>\n",
       "      <td>Free</td>\n",
       "      <td>0.0</td>\n",
       "      <td>Everyone</td>\n",
       "      <td>Education</td>\n",
       "      <td>2017-07-25</td>\n",
       "      <td>1.48</td>\n",
       "      <td>4.1 and up</td>\n",
       "      <td>25</td>\n",
       "      <td>7</td>\n",
       "      <td>2017</td>\n",
       "    </tr>\n",
       "    <tr>\n",
       "      <th>10837</th>\n",
       "      <td>Fr. Mike Schmitz Audio Teachings</td>\n",
       "      <td>FAMILY</td>\n",
       "      <td>5.0</td>\n",
       "      <td>4</td>\n",
       "      <td>3.6</td>\n",
       "      <td>100</td>\n",
       "      <td>Free</td>\n",
       "      <td>0.0</td>\n",
       "      <td>Everyone</td>\n",
       "      <td>Education</td>\n",
       "      <td>2018-07-06</td>\n",
       "      <td>1.0</td>\n",
       "      <td>4.1 and up</td>\n",
       "      <td>6</td>\n",
       "      <td>7</td>\n",
       "      <td>2018</td>\n",
       "    </tr>\n",
       "    <tr>\n",
       "      <th>10838</th>\n",
       "      <td>Parkinson Exercices FR</td>\n",
       "      <td>MEDICAL</td>\n",
       "      <td>NaN</td>\n",
       "      <td>3</td>\n",
       "      <td>9.5</td>\n",
       "      <td>1000</td>\n",
       "      <td>Free</td>\n",
       "      <td>0.0</td>\n",
       "      <td>Everyone</td>\n",
       "      <td>Medical</td>\n",
       "      <td>2017-01-20</td>\n",
       "      <td>1.0</td>\n",
       "      <td>2.2 and up</td>\n",
       "      <td>20</td>\n",
       "      <td>1</td>\n",
       "      <td>2017</td>\n",
       "    </tr>\n",
       "    <tr>\n",
       "      <th>10839</th>\n",
       "      <td>The SCP Foundation DB fr nn5n</td>\n",
       "      <td>BOOKS_AND_REFERENCE</td>\n",
       "      <td>4.5</td>\n",
       "      <td>114</td>\n",
       "      <td>NaN</td>\n",
       "      <td>1000</td>\n",
       "      <td>Free</td>\n",
       "      <td>0.0</td>\n",
       "      <td>Mature 17+</td>\n",
       "      <td>Books &amp; Reference</td>\n",
       "      <td>2015-01-19</td>\n",
       "      <td>Varies with device</td>\n",
       "      <td>Varies with device</td>\n",
       "      <td>19</td>\n",
       "      <td>1</td>\n",
       "      <td>2015</td>\n",
       "    </tr>\n",
       "    <tr>\n",
       "      <th>10840</th>\n",
       "      <td>iHoroscope - 2018 Daily Horoscope &amp; Astrology</td>\n",
       "      <td>LIFESTYLE</td>\n",
       "      <td>4.5</td>\n",
       "      <td>398307</td>\n",
       "      <td>19000.0</td>\n",
       "      <td>10000000</td>\n",
       "      <td>Free</td>\n",
       "      <td>0.0</td>\n",
       "      <td>Everyone</td>\n",
       "      <td>Lifestyle</td>\n",
       "      <td>2018-07-25</td>\n",
       "      <td>Varies with device</td>\n",
       "      <td>Varies with device</td>\n",
       "      <td>25</td>\n",
       "      <td>7</td>\n",
       "      <td>2018</td>\n",
       "    </tr>\n",
       "  </tbody>\n",
       "</table>\n",
       "<p>9659 rows × 16 columns</p>\n",
       "</div>"
      ],
      "text/plain": [
       "                                                     App             Category  \\\n",
       "0         Photo Editor & Candy Camera & Grid & ScrapBook       ART_AND_DESIGN   \n",
       "1                                    Coloring book moana       ART_AND_DESIGN   \n",
       "2      U Launcher Lite – FREE Live Cool Themes, Hide ...       ART_AND_DESIGN   \n",
       "3                                  Sketch - Draw & Paint       ART_AND_DESIGN   \n",
       "4                  Pixel Draw - Number Art Coloring Book       ART_AND_DESIGN   \n",
       "...                                                  ...                  ...   \n",
       "10836                                   Sya9a Maroc - FR               FAMILY   \n",
       "10837                   Fr. Mike Schmitz Audio Teachings               FAMILY   \n",
       "10838                             Parkinson Exercices FR              MEDICAL   \n",
       "10839                      The SCP Foundation DB fr nn5n  BOOKS_AND_REFERENCE   \n",
       "10840      iHoroscope - 2018 Daily Horoscope & Astrology            LIFESTYLE   \n",
       "\n",
       "       Rating  Reviews     Size  Installs  Type  Price Content Rating  \\\n",
       "0         4.1      159  19000.0     10000  Free    0.0       Everyone   \n",
       "1         3.9      967  14000.0    500000  Free    0.0       Everyone   \n",
       "2         4.7    87510      8.7   5000000  Free    0.0       Everyone   \n",
       "3         4.5   215644  25000.0  50000000  Free    0.0           Teen   \n",
       "4         4.3      967      2.8    100000  Free    0.0       Everyone   \n",
       "...       ...      ...      ...       ...   ...    ...            ...   \n",
       "10836     4.5       38  53000.0      5000  Free    0.0       Everyone   \n",
       "10837     5.0        4      3.6       100  Free    0.0       Everyone   \n",
       "10838     NaN        3      9.5      1000  Free    0.0       Everyone   \n",
       "10839     4.5      114      NaN      1000  Free    0.0     Mature 17+   \n",
       "10840     4.5   398307  19000.0  10000000  Free    0.0       Everyone   \n",
       "\n",
       "                          Genres Last Updated         Current Ver  \\\n",
       "0                   Art & Design   2018-01-07               1.0.0   \n",
       "1      Art & Design;Pretend Play   2018-01-15               2.0.0   \n",
       "2                   Art & Design   2018-08-01               1.2.4   \n",
       "3                   Art & Design   2018-06-08  Varies with device   \n",
       "4        Art & Design;Creativity   2018-06-20                 1.1   \n",
       "...                          ...          ...                 ...   \n",
       "10836                  Education   2017-07-25                1.48   \n",
       "10837                  Education   2018-07-06                 1.0   \n",
       "10838                    Medical   2017-01-20                 1.0   \n",
       "10839          Books & Reference   2015-01-19  Varies with device   \n",
       "10840                  Lifestyle   2018-07-25  Varies with device   \n",
       "\n",
       "              Android Ver  Date  Month  Year  \n",
       "0            4.0.3 and up     7      1  2018  \n",
       "1            4.0.3 and up    15      1  2018  \n",
       "2            4.0.3 and up     1      8  2018  \n",
       "3              4.2 and up     8      6  2018  \n",
       "4              4.4 and up    20      6  2018  \n",
       "...                   ...   ...    ...   ...  \n",
       "10836          4.1 and up    25      7  2017  \n",
       "10837          4.1 and up     6      7  2018  \n",
       "10838          2.2 and up    20      1  2017  \n",
       "10839  Varies with device    19      1  2015  \n",
       "10840  Varies with device    25      7  2018  \n",
       "\n",
       "[9659 rows x 16 columns]"
      ]
     },
     "execution_count": 66,
     "metadata": {},
     "output_type": "execute_result"
    }
   ],
   "source": [
    "df_copy=df_copy.drop_duplicates(subset=['App'],keep='first')\n",
    "df_copy"
   ]
  },
  {
   "cell_type": "code",
   "execution_count": 65,
   "id": "653edef4",
   "metadata": {},
   "outputs": [
    {
     "data": {
      "text/plain": [
       "(9659, 16)"
      ]
     },
     "execution_count": 65,
     "metadata": {},
     "output_type": "execute_result"
    }
   ],
   "source": [
    "df_copy.shape"
   ]
  },
  {
   "cell_type": "markdown",
   "id": "d93fc876",
   "metadata": {},
   "source": [
    "# Explore Data"
   ]
  },
  {
   "cell_type": "code",
   "execution_count": 68,
   "id": "8d732a87",
   "metadata": {},
   "outputs": [
    {
     "name": "stdout",
     "output_type": "stream",
     "text": [
      "We have 9 numerical features: ['Rating', 'Reviews', 'Size', 'Installs', 'Price', 'Last Updated', 'Date', 'Month', 'Year']\n",
      "\n",
      "We have 7 categorical features: ['App', 'Category', 'Type', 'Content Rating', 'Genres', 'Current Ver', 'Android Ver']\n"
     ]
    }
   ],
   "source": [
    "numeric_features = [feature for feature in df_copy.columns if df_copy[feature].dtype != 'O']\n",
    "categorical_features = [feature for feature in df_copy.columns if df_copy[feature].dtype == 'O']\n",
    "\n",
    "print(f\"We have {len(numeric_features)} numerical features: {numeric_features}\")\n",
    "print(f\"\\nWe have {len(categorical_features)} categorical features: {categorical_features}\")\n"
   ]
  },
  {
   "cell_type": "code",
   "execution_count": 71,
   "id": "9a8a9337",
   "metadata": {},
   "outputs": [
    {
     "name": "stdout",
     "output_type": "stream",
     "text": [
      "App\n",
      "ROBLOX                                                0.083018\n",
      "CBS Sports App - Scores, News, Stats & Watch Live     0.073794\n",
      "ESPN                                                  0.064570\n",
      "Duolingo: Learn Languages Free                        0.064570\n",
      "Candy Crush Saga                                      0.064570\n",
      "                                                        ...   \n",
      "Meet U - Get Friends for Snapchat, Kik & Instagram    0.009224\n",
      "U-Report                                              0.009224\n",
      "U of I Community Credit Union                         0.009224\n",
      "Waiting For U Launcher Theme                          0.009224\n",
      "iHoroscope - 2018 Daily Horoscope & Astrology         0.009224\n",
      "Name: proportion, Length: 9660, dtype: float64\n",
      "---------------------------\n",
      "Category\n",
      "FAMILY                 18.190204\n",
      "GAME                   10.552532\n",
      "TOOLS                   7.776035\n",
      "MEDICAL                 4.270824\n",
      "BUSINESS                4.243151\n",
      "PRODUCTIVITY            3.911078\n",
      "PERSONALIZATION         3.615903\n",
      "COMMUNICATION           3.569781\n",
      "SPORTS                  3.542109\n",
      "LIFESTYLE               3.523660\n",
      "FINANCE                 3.376072\n",
      "HEALTH_AND_FITNESS      3.145466\n",
      "PHOTOGRAPHY             3.090121\n",
      "SOCIAL                  2.721151\n",
      "NEWS_AND_MAGAZINES      2.610460\n",
      "SHOPPING                2.398303\n",
      "TRAVEL_AND_LOCAL        2.379854\n",
      "DATING                  2.158472\n",
      "BOOKS_AND_REFERENCE     2.130800\n",
      "VIDEO_PLAYERS           1.614242\n",
      "EDUCATION               1.438982\n",
      "ENTERTAINMENT           1.374412\n",
      "MAPS_AND_NAVIGATION     1.263721\n",
      "FOOD_AND_DRINK          1.171479\n",
      "HOUSE_AND_HOME          0.811733\n",
      "LIBRARIES_AND_DEMO      0.784061\n",
      "AUTO_AND_VEHICLES       0.784061\n",
      "WEATHER                 0.756388\n",
      "ART_AND_DESIGN          0.599576\n",
      "EVENTS                  0.590351\n",
      "PARENTING               0.553454\n",
      "COMICS                  0.553454\n",
      "BEAUTY                  0.488885\n",
      "1.9                     0.009224\n",
      "Name: proportion, dtype: float64\n",
      "---------------------------\n",
      "Type\n",
      "Free    92.610701\n",
      "Paid     7.380074\n",
      "0        0.009225\n",
      "Name: proportion, dtype: float64\n",
      "---------------------------\n",
      "Content Rating\n",
      "Everyone           80.387454\n",
      "Teen               11.143911\n",
      "Mature 17+          4.603321\n",
      "Everyone 10+        3.819188\n",
      "Adults only 18+     0.027675\n",
      "Unrated             0.018450\n",
      "Name: proportion, dtype: float64\n",
      "---------------------------\n",
      "Genres\n",
      "Tools                     7.766811\n",
      "Entertainment             5.746702\n",
      "Education                 5.064108\n",
      "Medical                   4.270824\n",
      "Business                  4.243151\n",
      "                            ...   \n",
      "Arcade;Pretend Play       0.009224\n",
      "Card;Brain Games          0.009224\n",
      "Lifestyle;Pretend Play    0.009224\n",
      "Comics;Creativity         0.009224\n",
      "Strategy;Creativity       0.009224\n",
      "Name: proportion, Length: 120, dtype: float64\n",
      "---------------------------\n",
      "Current Ver\n",
      "Varies with device    13.468107\n",
      "1.0                    7.467922\n",
      "1.1                    2.436998\n",
      "1.2                    1.643127\n",
      "2.0                    1.393889\n",
      "                        ...    \n",
      "1.0.17.3905            0.009231\n",
      "15.1.2                 0.009231\n",
      "4.94.19                0.009231\n",
      "1.1.11.11              0.009231\n",
      "2.0.148.0              0.009231\n",
      "Name: proportion, Length: 2832, dtype: float64\n",
      "---------------------------\n",
      "Android Ver\n",
      "4.1 and up            22.614874\n",
      "4.0.3 and up          13.849419\n",
      "4.0 and up            12.686843\n",
      "Varies with device    12.566894\n",
      "4.4 and up             9.042259\n",
      "2.3 and up             6.015870\n",
      "5.0 and up             5.545304\n",
      "4.2 and up             3.635357\n",
      "2.3.3 and up           2.592729\n",
      "2.2 and up             2.251338\n",
      "4.3 and up             2.242111\n",
      "3.0 and up             2.223658\n",
      "2.1 and up             1.236390\n",
      "1.6 and up             1.070308\n",
      "6.0 and up             0.553608\n",
      "7.0 and up             0.387525\n",
      "3.2 and up             0.332165\n",
      "2.0 and up             0.295257\n",
      "5.1 and up             0.221443\n",
      "1.5 and up             0.184536\n",
      "4.4W and up            0.110722\n",
      "3.1 and up             0.092268\n",
      "2.0.1 and up           0.064588\n",
      "8.0 and up             0.055361\n",
      "7.1 and up             0.027680\n",
      "4.0.3 - 7.1.1          0.018454\n",
      "5.0 - 8.0              0.018454\n",
      "1.0 and up             0.018454\n",
      "7.0 - 7.1.1            0.009227\n",
      "4.1 - 7.1.1            0.009227\n",
      "5.0 - 6.0              0.009227\n",
      "2.2 - 7.1.1            0.009227\n",
      "5.0 - 7.1.1            0.009227\n",
      "Name: proportion, dtype: float64\n",
      "---------------------------\n"
     ]
    }
   ],
   "source": [
    "## Proportion of count data on categorical columns\n",
    "for col in categorical_features:\n",
    "    print(df[col].value_counts(normalize=True)*100)\n",
    "    print('---------------------------')"
   ]
  },
  {
   "cell_type": "code",
   "execution_count": 79,
   "id": "96713062",
   "metadata": {},
   "outputs": [
    {
     "data": {
      "image/png": "[encoded data removed]",
      "text/plain": [
       "<Figure size 1500x1500 with 9 Axes>"
      ]
     },
     "metadata": {},
     "output_type": "display_data"
    }
   ],
   "source": [
    "# Set up the figure size and overall title\n",
    "plt.figure(figsize=(15, 15))\n",
    "plt.suptitle('Univariate Analysis of Numerical Features', fontsize=20, fontweight='bold', alpha=0.8, y=1.0)\n",
    "\n",
    "# Loop through each numerical feature and plot its distribution\n",
    "for i in range(0, len(numeric_features)):\n",
    "    plt.subplot(5, 3, i+1)\n",
    "    sns.kdeplot(x=df_copy[numeric_features[i]],shade=True, color='b')\n",
    "    plt.xlabel(numeric_features[i])\n",
    "\n"
   ]
  },
  {
   "cell_type": "markdown",
   "id": "3138a3c6",
   "metadata": {},
   "source": [
    "The distributions of Rating and Year are left-skewed, whereas Reviews, Size, Installs, and Price exhibit right-skewed distributions.\n"
   ]
  },
  {
   "cell_type": "code",
   "execution_count": 81,
   "id": "08f2f4a1",
   "metadata": {},
   "outputs": [
    {
     "data": {
      "image/png": "[encoded data removed]",
      "text/plain": [
       "<Figure size 2000x1500 with 2 Axes>"
      ]
     },
     "metadata": {},
     "output_type": "display_data"
    }
   ],
   "source": [
    "# categorical columns\n",
    "plt.figure(figsize=(20, 15))\n",
    "plt.suptitle('Univariate Analysis of Categorical Features', fontsize=20, fontweight='bold', alpha=0.8, y=1.)\n",
    "category = [ 'Type', 'Content Rating']\n",
    "for i in range(0, len(category)):\n",
    "    plt.subplot(2, 2, i+1)\n",
    "    sns.countplot(x=df[category[i]],palette=\"Blues\")\n",
    "    plt.xlabel(category[i])\n",
    "    plt.xticks(rotation=45)\n",
    "    plt.tight_layout() "
   ]
  },
  {
   "cell_type": "code",
   "execution_count": null,
   "id": "598479fd",
   "metadata": {},
   "outputs": [],
   "source": []
  }
 ],
 "metadata": {
  "kernelspec": {
   "display_name": "Python 3 (ipykernel)",
   "language": "python",
   "name": "python3"
  },
  "language_info": {
   "codemirror_mode": {
    "name": "ipython",
    "version": 3
   },
   "file_extension": ".py",
   "mimetype": "text/x-python",
   "name": "python",
   "nbconvert_exporter": "python",
   "pygments_lexer": "ipython3",
   "version": "3.11.5"
  }
 },
 "nbformat": 4,
 "nbformat_minor": 5
}
